{
 "nbformat": 4,
 "nbformat_minor": 2,
 "metadata": {
  "language_info": {
   "name": "python",
   "codemirror_mode": {
    "name": "ipython",
    "version": 3
   },
   "version": "3.7.2-final"
  },
  "orig_nbformat": 2,
  "file_extension": ".py",
  "mimetype": "text/x-python",
  "name": "python",
  "npconvert_exporter": "python",
  "pygments_lexer": "ipython3",
  "version": 3,
  "kernelspec": {
   "name": "python3",
   "display_name": "Python 3"
  }
 },
 "cells": [
  {
   "cell_type": "code",
   "execution_count": 2,
   "metadata": {},
   "outputs": [],
   "source": [
    "\"\"\"\n",
    "Idea: recuperar los headlines del espectador, el tiempo, 2orillas, silla vacia, publimetro usando bs4\n",
    "\n",
    "Al inicio, obtener info solo de la pág. principal. Luego, buscar dentro de cada artículo (tags) (eg. la sila vacia no tiene tags en index).\n",
    "\n",
    "Luego: clustering? comparar con otros periódicos?\n",
    "\"\"\"\n",
    "from bs4 import BeautifulSoup\n",
    "import pandas as pd\n",
    "import requests\n",
    "import re"
   ]
  },
  {
   "cell_type": "code",
   "execution_count": 3,
   "metadata": {},
   "outputs": [
    {
     "name": "stdout",
     "output_type": "stream",
     "text": "Se encontraron 41 artículos.\n"
    },
    {
     "data": {
      "text/html": "<div>\n<style scoped>\n    .dataframe tbody tr th:only-of-type {\n        vertical-align: middle;\n    }\n\n    .dataframe tbody tr th {\n        vertical-align: top;\n    }\n\n    .dataframe thead th {\n        text-align: right;\n    }\n</style>\n<table border=\"1\" class=\"dataframe\">\n  <thead>\n    <tr style=\"text-align: right;\">\n      <th></th>\n      <th>titulo</th>\n      <th>categoria</th>\n      <th>link</th>\n    </tr>\n  </thead>\n  <tbody>\n    <tr>\n      <td>0</td>\n      <td>Presidente Duque declara la emergencia sanitar...</td>\n      <td>Política</td>\n      <td>https://www.elespectador.com/coronavirus/presi...</td>\n    </tr>\n    <tr>\n      <td>1</td>\n      <td>Dólar en Colombia supera los $4.000</td>\n      <td>Economía</td>\n      <td>https://www.elespectador.com/coronavirus/dolar...</td>\n    </tr>\n    <tr>\n      <td>2</td>\n      <td>China da por superado el pico de transmisiones...</td>\n      <td>El Mundo</td>\n      <td>https://www.elespectador.com/noticias/el-mundo...</td>\n    </tr>\n    <tr>\n      <td>3</td>\n      <td>Discurso de Trump no logra tranquilizar a merc...</td>\n      <td>Economía</td>\n      <td>https://www.elespectador.com/coronavirus/discu...</td>\n    </tr>\n    <tr>\n      <td>4</td>\n      <td>Pilotos de fracking: ¿el gobierno se autohabil...</td>\n      <td>Judicial</td>\n      <td>https://www.elespectador.com/noticias/judicial...</td>\n    </tr>\n  </tbody>\n</table>\n</div>",
      "text/plain": "                                              titulo categoria  \\\n0  Presidente Duque declara la emergencia sanitar...  Política   \n1                Dólar en Colombia supera los $4.000  Economía   \n2  China da por superado el pico de transmisiones...  El Mundo   \n3  Discurso de Trump no logra tranquilizar a merc...  Economía   \n4  Pilotos de fracking: ¿el gobierno se autohabil...  Judicial   \n\n                                                link  \n0  https://www.elespectador.com/coronavirus/presi...  \n1  https://www.elespectador.com/coronavirus/dolar...  \n2  https://www.elespectador.com/noticias/el-mundo...  \n3  https://www.elespectador.com/coronavirus/discu...  \n4  https://www.elespectador.com/noticias/judicial...  "
     },
     "execution_count": 3,
     "metadata": {},
     "output_type": "execute_result"
    }
   ],
   "source": [
    "## ESPECTADOR\n",
    "\n",
    "page = requests.get(\"https://www.elespectador.com/noticias/\").content # página principal del espectador\n",
    "soup = BeautifulSoup(page, features=\"html.parser\")\n",
    "articulos = soup.findAll(\"div\", class_= \"node--article\")\n",
    "base_url=\"https://www.elespectador.com\"\n",
    "print(f\"Se encontraron {len(articulos)} artículos.\")\n",
    "\n",
    "titulos=[]\n",
    "categorias=[]\n",
    "links=[]\n",
    "\n",
    "for articulo in articulos:\n",
    "    categorias.append(articulo.find(\"div\",class_=\"node-term\").a.string)\n",
    "    titulos.append(articulo.find(\"div\",class_=\"node-title\").a.string)\n",
    "    link=base_url+articulo.find(\"div\",class_=\"node-title\").a[\"href\"]\n",
    "    links.append(link)\n",
    "    #TODO obtener tags a partir del link\n",
    "\n",
    "espectador=pd.DataFrame(data={\"titulo\":titulos,\"categoria\":categorias,\"link\":links})\n",
    "espectador.head()\n"
   ]
  },
  {
   "cell_type": "code",
   "execution_count": 4,
   "metadata": {},
   "outputs": [
    {
     "name": "stdout",
     "output_type": "stream",
     "text": "Se encontraron 98 artículos.\n"
    },
    {
     "data": {
      "text/html": "<div>\n<style scoped>\n    .dataframe tbody tr th:only-of-type {\n        vertical-align: middle;\n    }\n\n    .dataframe tbody tr th {\n        vertical-align: top;\n    }\n\n    .dataframe thead th {\n        text-align: right;\n    }\n</style>\n<table border=\"1\" class=\"dataframe\">\n  <thead>\n    <tr style=\"text-align: right;\">\n      <th></th>\n      <th>titulo</th>\n      <th>categoria</th>\n      <th>autor</th>\n      <th>link</th>\n    </tr>\n  </thead>\n  <tbody>\n    <tr>\n      <td>0</td>\n      <td>Tom Hanks, Estéreo Picnic, NBA, Feria del Libr...</td>\n      <td>None</td>\n      <td>None</td>\n      <td>https://www.eltiempo.com/podcast/el-primer-caf...</td>\n    </tr>\n    <tr>\n      <td>1</td>\n      <td>Se declara emergencia sanitaria nacional por c...</td>\n      <td>coronavirus</td>\n      <td>Luisa Mercado</td>\n      <td>https://www.eltiempo.com/politica/gobierno/cor...</td>\n    </tr>\n    <tr>\n      <td>2</td>\n      <td>Dólar abre por encima de los 4.000 pesos batie...</td>\n      <td>None</td>\n      <td>Martha Morales</td>\n      <td>https://www.eltiempo.com/economia/sectores/dol...</td>\n    </tr>\n    <tr>\n      <td>3</td>\n      <td>Según la OMS, la pandemia del coronavirus toda...</td>\n      <td>None</td>\n      <td>Camilo Hernández</td>\n      <td>https://www.eltiempo.com/salud/coronavirus-oms...</td>\n    </tr>\n    <tr>\n      <td>4</td>\n      <td>Alertan posible riesgo de coronavirus en cárce...</td>\n      <td>None</td>\n      <td>María Fernanda Arbeláez</td>\n      <td>https://www.eltiempo.com/justicia/servicios/al...</td>\n    </tr>\n  </tbody>\n</table>\n</div>",
      "text/plain": "                                              titulo    categoria  \\\n0  Tom Hanks, Estéreo Picnic, NBA, Feria del Libr...         None   \n1  Se declara emergencia sanitaria nacional por c...  coronavirus   \n2  Dólar abre por encima de los 4.000 pesos batie...         None   \n3  Según la OMS, la pandemia del coronavirus toda...         None   \n4  Alertan posible riesgo de coronavirus en cárce...         None   \n\n                     autor                                               link  \n0                     None  https://www.eltiempo.com/podcast/el-primer-caf...  \n1            Luisa Mercado  https://www.eltiempo.com/politica/gobierno/cor...  \n2           Martha Morales  https://www.eltiempo.com/economia/sectores/dol...  \n3         Camilo Hernández  https://www.eltiempo.com/salud/coronavirus-oms...  \n4  María Fernanda Arbeláez  https://www.eltiempo.com/justicia/servicios/al...  "
     },
     "execution_count": 4,
     "metadata": {},
     "output_type": "execute_result"
    }
   ],
   "source": [
    "## EL TIEMPO\n",
    "\n",
    "page = requests.get(\"https://www.eltiempo.com/\").content # página principal del espectador\n",
    "soup = BeautifulSoup(page, features=\"html.parser\")\n",
    "base_url=\"https://www.eltiempo.com\" #para los href\n",
    "\n",
    "articulos=soup.findAll(\"article\")\n",
    "print(f\"Se encontraron {len(articulos)} artículos.\")\n",
    "\n",
    "titulos=[]\n",
    "categorias=[]\n",
    "autores=[]\n",
    "links=[]\n",
    "\n",
    "#TODO REMOVER DUPLICADOS Y COSAS INÚTILES (indidcadores económicos, galería, video)\n",
    "for articulo in articulos:\n",
    "        link=None\n",
    "\n",
    "        titulo=articulo.find(class_=re.compile(\"^(title\\-container)|(col\\-title)\", re.IGNORECASE))\n",
    "        if titulo is not None:\n",
    "            #print(titulo)  \n",
    "            link=base_url+titulo.a[\"href\"]\n",
    "            titulo=titulo.a.contents[0]\n",
    "        \n",
    "        autor=articulo.find(itemprop=\"author\")\n",
    "        if autor is not None:\n",
    "            autor=autor.find(itemprop=\"name\").string\n",
    "\n",
    "       \n",
    "        categoria=articulo.find(class_=re.compile(\"^(category-published)|(supratitle)\", re.IGNORECASE))\n",
    "        #print(categoria) \n",
    "        if categoria is not None:\n",
    "            if categoria.a is not None:              \n",
    "                categoria=categoria.a.contents[0]\n",
    "            else:\n",
    "                 categoria=None  \n",
    "\n",
    "        links.append(link)\n",
    "        titulos.append(titulo)\n",
    "        categorias.append(categoria)\n",
    "        autores.append(autor)\n",
    "\n",
    "eltiempo=pd.DataFrame(data={\"titulo\":titulos,\"categoria\":categorias,\"autor\":autores,\"link\":links})\n",
    "eltiempo.head()"
   ]
  },
  {
   "cell_type": "code",
   "execution_count": 5,
   "metadata": {},
   "outputs": [
    {
     "name": "stdout",
     "output_type": "stream",
     "text": "Se encontraron 25 artículos.\n"
    },
    {
     "data": {
      "text/html": "<div>\n<style scoped>\n    .dataframe tbody tr th:only-of-type {\n        vertical-align: middle;\n    }\n\n    .dataframe tbody tr th {\n        vertical-align: top;\n    }\n\n    .dataframe thead th {\n        text-align: right;\n    }\n</style>\n<table border=\"1\" class=\"dataframe\">\n  <thead>\n    <tr style=\"text-align: right;\">\n      <th></th>\n      <th>titulo</th>\n      <th>descripcion</th>\n      <th>link</th>\n    </tr>\n  </thead>\n  <tbody>\n    <tr>\n      <td>0</td>\n      <td>El asesinato del campesino de Piendamó que pue...</td>\n      <td>El caso de Ulpiano Ortiz, otro de los más de 5...</td>\n      <td>https://www.las2orillas.co/el-asesinato-del-ca...</td>\n    </tr>\n    <tr>\n      <td>1</td>\n      <td>Tom Hanks, la primera estrella de Hollywood en...</td>\n      <td>Su esposa Rita Wilson también tiene el virus. ...</td>\n      <td>https://www.las2orillas.co/tom-hanks-la-primer...</td>\n    </tr>\n    <tr>\n      <td>2</td>\n      <td>Tocilizumab, el medicamento contra la artritis...</td>\n      <td>El oncólogo italiano Paulo Ascierto de Pascale...</td>\n      <td>https://www.las2orillas.co/tocilizumab-el-medi...</td>\n    </tr>\n    <tr>\n      <td>3</td>\n      <td>Hassam reconoce que su cáncer no tiene cura</td>\n      <td>El pesar de sus seguidores es absoluto cuando,...</td>\n      <td>https://www.las2orillas.co/nada-que-hacerhassa...</td>\n    </tr>\n    <tr>\n      <td>4</td>\n      <td>La promoción de la asamblea del BID 2020 que h...</td>\n      <td>Transmetro lanzó la tarjeta conmemorativa de l...</td>\n      <td>https://www.las2orillas.co/la-promocion-de-la-...</td>\n    </tr>\n  </tbody>\n</table>\n</div>",
      "text/plain": "                                              titulo  \\\n0  El asesinato del campesino de Piendamó que pue...   \n1  Tom Hanks, la primera estrella de Hollywood en...   \n2  Tocilizumab, el medicamento contra la artritis...   \n3        Hassam reconoce que su cáncer no tiene cura   \n4  La promoción de la asamblea del BID 2020 que h...   \n\n                                         descripcion  \\\n0  El caso de Ulpiano Ortiz, otro de los más de 5...   \n1  Su esposa Rita Wilson también tiene el virus. ...   \n2  El oncólogo italiano Paulo Ascierto de Pascale...   \n3  El pesar de sus seguidores es absoluto cuando,...   \n4  Transmetro lanzó la tarjeta conmemorativa de l...   \n\n                                                link  \n0  https://www.las2orillas.co/el-asesinato-del-ca...  \n1  https://www.las2orillas.co/tom-hanks-la-primer...  \n2  https://www.las2orillas.co/tocilizumab-el-medi...  \n3  https://www.las2orillas.co/nada-que-hacerhassa...  \n4  https://www.las2orillas.co/la-promocion-de-la-...  "
     },
     "execution_count": 5,
     "metadata": {},
     "output_type": "execute_result"
    }
   ],
   "source": [
    "## LAS DOS ORILLAS\n",
    "\n",
    "page = requests.get(\"https://www.las2orillas.co/\").content # página principal del espectador\n",
    "soup = BeautifulSoup(page, features=\"html.parser\")\n",
    "\n",
    "#tipos: artículo normal, carrusel grande, carrusel video, carrusel normal\n",
    "articulos=soup.findAll(\"div\",class_=\"post\")\n",
    "carruseles=soup.findAll(\"div\",class_=\"carousel-inner\") \n",
    "articulos_carrusel=[]\n",
    "for carrusel in carruseles:\n",
    "    articulos_carrusel.extend(carrusel.findAll(\"div\",class_=\"item\"))    \n",
    "\n",
    "print(f\"Se encontraron {len(articulos)+len(articulos_carrusel)} artículos.\")\n",
    "\n",
    "titulos=[]\n",
    "links=[]\n",
    "descripciones=[]\n",
    "\n",
    "for articulo in articulos:\n",
    "    titulo=articulo.find(class_=\"entry-title\").a.string\n",
    "    link=articulo.find(class_=\"entry-title\").a[\"href\"]\n",
    "    desc=articulo.find(class_=\"entry-content\").string.strip()\n",
    "\n",
    "    titulos.append(titulo)\n",
    "    links.append(link)\n",
    "    descripciones.append(desc)\n",
    "\n",
    "for articulo in articulos_carrusel:\n",
    "\n",
    "    # esto realmente no lo llenan\n",
    "    # cat=articulo.find(\"a\",class_=\"image-top\")\n",
    "    # if cat is not None:\n",
    "    #     cat=cat.string\n",
    "\n",
    "    titulo=articulo.find(class_=\"entry-title\")\n",
    "    if titulo.a is not None:\n",
    "        titulo=titulo.a.string\n",
    "    else:\n",
    "        titulo=titulo.string\n",
    "\n",
    "    link=articulo.find(\"a\",title=re.compile(\"^.*\"))[\"href\"]\n",
    "    desc=articulo.find(\"div\",class_=\"text-container\")\n",
    "    if desc is not None:\n",
    "        desc=str(desc.p.string).strip()\n",
    "\n",
    "    titulos.append(titulo)\n",
    "    descripciones.append(desc)\n",
    "    links.append(link)\n",
    "\n",
    "dosorillas=pd.DataFrame(data={\"titulo\":titulos,\"descripcion\":descripciones,\"link\":links})\n",
    "dosorillas.head()\n",
    "\n",
    "    \n"
   ]
  },
  {
   "cell_type": "code",
   "execution_count": 6,
   "metadata": {},
   "outputs": [
    {
     "name": "stdout",
     "output_type": "stream",
     "text": "Se encontraron 63 artículos.\n"
    },
    {
     "data": {
      "text/html": "<div>\n<style scoped>\n    .dataframe tbody tr th:only-of-type {\n        vertical-align: middle;\n    }\n\n    .dataframe tbody tr th {\n        vertical-align: top;\n    }\n\n    .dataframe thead th {\n        text-align: right;\n    }\n</style>\n<table border=\"1\" class=\"dataframe\">\n  <thead>\n    <tr style=\"text-align: right;\">\n      <th></th>\n      <th>titulo</th>\n      <th>categoria</th>\n      <th>link</th>\n    </tr>\n  </thead>\n  <tbody>\n    <tr>\n      <td>0</td>\n      <td>Iván Duque declara emergencia sanitaria y orde...</td>\n      <td>Noticias</td>\n      <td>https://www.publimetro.co/co/noticias/2020/03/...</td>\n    </tr>\n    <tr>\n      <td>1</td>\n      <td>James Rodríguez, en cuarentena con todo el Rea...</td>\n      <td>Noticias</td>\n      <td>https://www.publimetro.co/co/noticias/2020/03/...</td>\n    </tr>\n    <tr>\n      <td>2</td>\n      <td>Actor italiano quedó atrapado junto al cadáver...</td>\n      <td>None</td>\n      <td>https://www.publimetro.co/co/mundo/2020/03/12/...</td>\n    </tr>\n    <tr>\n      <td>3</td>\n      <td>Federación Colombiana de Tenis tomó drástica m...</td>\n      <td>None</td>\n      <td>https://www.publimetro.co/co/deportes/2020/03/...</td>\n    </tr>\n    <tr>\n      <td>4</td>\n      <td>\"Crecerá el número de casos y es posible que t...</td>\n      <td>None</td>\n      <td>https://www.publimetro.co/co/noticias/2020/03/...</td>\n    </tr>\n  </tbody>\n</table>\n</div>",
      "text/plain": "                                              titulo categoria  \\\n0  Iván Duque declara emergencia sanitaria y orde...  Noticias   \n1  James Rodríguez, en cuarentena con todo el Rea...  Noticias   \n2  Actor italiano quedó atrapado junto al cadáver...      None   \n3  Federación Colombiana de Tenis tomó drástica m...      None   \n4  \"Crecerá el número de casos y es posible que t...      None   \n\n                                                link  \n0  https://www.publimetro.co/co/noticias/2020/03/...  \n1  https://www.publimetro.co/co/noticias/2020/03/...  \n2  https://www.publimetro.co/co/mundo/2020/03/12/...  \n3  https://www.publimetro.co/co/deportes/2020/03/...  \n4  https://www.publimetro.co/co/noticias/2020/03/...  "
     },
     "execution_count": 6,
     "metadata": {},
     "output_type": "execute_result"
    }
   ],
   "source": [
    "# PUBLÍMETRO\n",
    "page = requests.get(\"https://www.publimetro.co/co/\").content # página principal del espectador\n",
    "soup = BeautifulSoup(page, features=\"html.parser\")\n",
    "\n",
    "#tipos: grande (con related), normal, mini\n",
    "articulos=soup.findAll(\"div\",class_=\"article-view\")\n",
    "print(f\"Se encontraron {len(articulos)} artículos.\")\n",
    "\n",
    "#estilo de vida y opinión es diferente\n",
    "\n",
    "titulos=[]\n",
    "links=[]\n",
    "categorias=[]\n",
    "\n",
    "for articulo in articulos:\n",
    "\n",
    "    titulo=articulo.find(class_=\"tit\").a.string\n",
    "    link=articulo.find(class_=\"tit\").a[\"href\"]\n",
    "    cat=articulo.find(class_=\"article-category-list\")\n",
    "    if cat is not None:\n",
    "        cat=cat.find(\"a\").string if cat.find(\"a\") is not None else None\n",
    "\n",
    "    titulos.append(titulo)\n",
    "    links.append(link)\n",
    "    categorias.append(cat)\n",
    "\n",
    "publimetro=pd.DataFrame(data={\"titulo\":titulos,\"categoria\":categorias,\"link\":links})\n",
    "publimetro.head()"
   ]
  },
  {
   "cell_type": "code",
   "execution_count": 68,
   "metadata": {},
   "outputs": [
    {
     "name": "stdout",
     "output_type": "stream",
     "text": "Se encontraron 60 artículos.\n"
    },
    {
     "data": {
      "text/html": "<div>\n<style scoped>\n    .dataframe tbody tr th:only-of-type {\n        vertical-align: middle;\n    }\n\n    .dataframe tbody tr th {\n        vertical-align: top;\n    }\n\n    .dataframe thead th {\n        text-align: right;\n    }\n</style>\n<table border=\"1\" class=\"dataframe\">\n  <thead>\n    <tr style=\"text-align: right;\">\n      <th></th>\n      <th>titulo</th>\n      <th>categoria</th>\n      <th>link</th>\n      <th>descripcion</th>\n    </tr>\n  </thead>\n  <tbody>\n    <tr>\n      <td>count</td>\n      <td>60</td>\n      <td>59</td>\n      <td>60</td>\n      <td>59</td>\n    </tr>\n    <tr>\n      <td>unique</td>\n      <td>60</td>\n      <td>27</td>\n      <td>60</td>\n      <td>59</td>\n    </tr>\n    <tr>\n      <td>top</td>\n      <td>Sentencian a Harvey Weinstein a 23 años de pri...</td>\n      <td>MUNDO</td>\n      <td>https://www.semana.com/deportes/articulo/conme...</td>\n      <td>Así lo decidió la Corte Constitucional, que ta...</td>\n    </tr>\n    <tr>\n      <td>freq</td>\n      <td>1</td>\n      <td>11</td>\n      <td>1</td>\n      <td>1</td>\n    </tr>\n  </tbody>\n</table>\n</div>",
      "text/plain": "                                                   titulo categoria  \\\ncount                                                  60        59   \nunique                                                 60        27   \ntop     Sentencian a Harvey Weinstein a 23 años de pri...     MUNDO   \nfreq                                                    1        11   \n\n                                                     link  \\\ncount                                                  60   \nunique                                                 60   \ntop     https://www.semana.com/deportes/articulo/conme...   \nfreq                                                    1   \n\n                                              descripcion  \ncount                                                  59  \nunique                                                 59  \ntop     Así lo decidió la Corte Constitucional, que ta...  \nfreq                                                    1  "
     },
     "execution_count": 68,
     "metadata": {},
     "output_type": "execute_result"
    }
   ],
   "source": [
    "# SEMANA\n",
    "\n",
    "page = requests.get(\"https://www.semana.com/\").content # página principal del espectador\n",
    "soup = BeautifulSoup(page, features=\"html.parser\")\n",
    "base_url=\"https://www.semana.com\"\n",
    "\n",
    "articulos=soup.findAll(\"article\")\n",
    "print(f\"Se encontraron {len(articulos)} artículos.\")\n",
    "\n",
    "\n",
    "titulos=[]\n",
    "categorias=[]\n",
    "links=[]\n",
    "descripciones=[]\n",
    "\n",
    "for articulo in articulos:\n",
    "\n",
    "    titulo=articulo.find(\"a\",class_=re.compile(\"^article.*link\")).string\n",
    "    if titulo is not None:\n",
    "        titulo=titulo.strip()\n",
    "    else:\n",
    "        titulo=re.sub(\"\\s{2,}\",\" \",articulo.find(\"a\",class_=re.compile(\"^article.*link\")).text).strip()    \n",
    "\n",
    "    link=base_url+articulo.find(class_=re.compile(\"^article.*link\"))[\"href\"]\n",
    "\n",
    "    desc=articulo.find(\"p\").string\n",
    "    desc=desc.strip() if desc is not None else None\n",
    "\n",
    "    cat=articulo.find(class_=re.compile(\"tag\"))\n",
    "    if cat is not None:\n",
    "        cat=cat.string.strip()\n",
    "\n",
    "    titulos.append(titulo)\n",
    "    categorias.append(cat)\n",
    "    links.append(link)\n",
    "    descripciones.append(desc)\n",
    "\n",
    "semana=pd.DataFrame(data={\"titulo\":titulos,\"categoria\":categorias,\"link\":links,\"descripcion\":descripciones})\n",
    "semana.describe()"
   ]
  },
  {
   "cell_type": "code",
   "execution_count": null,
   "metadata": {},
   "outputs": [],
   "source": []
  }
 ]
}